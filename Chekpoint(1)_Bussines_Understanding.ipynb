{
  "nbformat": 4,
  "nbformat_minor": 0,
  "metadata": {
    "colab": {
      "provenance": [],
      "authorship_tag": "ABX9TyODTxqGQLuJY8dlZMh0SuwC",
      "include_colab_link": true
    },
    "kernelspec": {
      "name": "python3",
      "display_name": "Python 3"
    },
    "language_info": {
      "name": "python"
    }
  },
  "cells": [
    {
      "cell_type": "markdown",
      "metadata": {
        "id": "view-in-github",
        "colab_type": "text"
      },
      "source": [
        "<a href=\"https://colab.research.google.com/github/harrychandraa/harrychandraa/blob/main/Chekpoint(1)_Bussines_Understanding.ipynb\" target=\"_parent\"><img src=\"https://colab.research.google.com/assets/colab-badge.svg\" alt=\"Open In Colab\"/></a>"
      ]
    },
    {
      "cell_type": "markdown",
      "source": [
        "# 101 Hidangan India (Indian Food 101)"
      ],
      "metadata": {
        "id": "mgnse5sRHD3D"
      }
    },
    {
      "cell_type": "markdown",
      "source": [
        "###Bussines Understanding"
      ],
      "metadata": {
        "id": "zke-pCo-HJOT"
      }
    },
    {
      "cell_type": "markdown",
      "source": [
        "**Bussines Objective**\n",
        "\n",
        "Tujuan dari bisnis hidangan india ini adalah untuk mengidentifikasi hidangan india populer di berbagai wilayah, memahami preferensi konsumen terhadap hidangan india berdasarkan kategori (Vegetarian, non-vegetarian), dan tingkat kepedasan.\n",
        "\n",
        "**Assess Situation**\n",
        "\n",
        "Situasi bisnis hidangan india memiliki peluang untuk sukses di pasar yang berkembang. Namun, bisnis ini juga harus menghadapi ancaman dari persaingan dan perubahan trend. Dengan strategi yang tepat, bisnis dapat mengatasi ancaman ini dan memanfaatkan peluang untuk mencapai kesuksesan.\n",
        "\n",
        "**Data Mining Goals**\n",
        "\n",
        "Data mining adalah alat yang ampuh yang dapat digunakan oleh bisnis hidangan india untuk mendapatkan wawasan yang berharga tentang pasar, dan peluang, Dengan menggunakan data mining, bisnis dapat membuat keputusan yang lebih baik, meningkatkan strategi, dan mendapatkan keunggulan kompetitif.\n",
        "\n",
        "**Project Plan**\n",
        "\n",
        "sebelum melakukan identifikasi hidangan populer india, langkah awal yang harus dilakukan adalah mengumpulkan data mulai dari nama hidangan india, bahan-bahan pembuatan, jenis kategori(vegetarian, non-vegetarian), lama pembuatan, lama matang, kategori rasa dari hidangan tersebut, jenis hidangan, asal bagian mana hidangan tersebut terkenal, wilayah, dan region: wilayah dimanan negara berada."
      ],
      "metadata": {
        "id": "U71uXCP7IlmL"
      }
    }
  ]
}